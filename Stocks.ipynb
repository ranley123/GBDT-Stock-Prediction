{
 "cells": [
  {
   "cell_type": "code",
   "execution_count": 2,
   "metadata": {},
   "outputs": [
    {
     "name": "stderr",
     "output_type": "stream",
     "text": [
      "/home/ranley/anaconda3/lib/python3.7/site-packages/dask/config.py:168: YAMLLoadWarning: calling yaml.load() without Loader=... is deprecated, as the default Loader is unsafe. Please read https://msg.pyyaml.org/load for full details.\n",
      "  data = yaml.load(f.read()) or {}\n",
      "/home/ranley/anaconda3/lib/python3.7/site-packages/distributed/config.py:20: YAMLLoadWarning: calling yaml.load() without Loader=... is deprecated, as the default Loader is unsafe. Please read https://msg.pyyaml.org/load for full details.\n",
      "  defaults = yaml.load(f)\n"
     ]
    }
   ],
   "source": [
    "import xgboost as xgb\n",
    "import pandas as pd # analysis\n",
    "import numpy as np # calculation\n",
    "from pandas import Series, DataFrame\n",
    "from sklearn.svm import SVC\n",
    "from sklearn.model_selection import GridSearchCV\n",
    "from sklearn.model_selection import train_test_split\n",
    "from sklearn.model_selection import cross_val_score\n",
    "from sklearn.metrics import mean_squared_error\n",
    "from sklearn import ensemble"
   ]
  },
  {
   "cell_type": "code",
   "execution_count": 3,
   "metadata": {},
   "outputs": [
    {
     "data": {
      "text/html": [
       "<div>\n",
       "<style scoped>\n",
       "    .dataframe tbody tr th:only-of-type {\n",
       "        vertical-align: middle;\n",
       "    }\n",
       "\n",
       "    .dataframe tbody tr th {\n",
       "        vertical-align: top;\n",
       "    }\n",
       "\n",
       "    .dataframe thead th {\n",
       "        text-align: right;\n",
       "    }\n",
       "</style>\n",
       "<table border=\"1\" class=\"dataframe\">\n",
       "  <thead>\n",
       "    <tr style=\"text-align: right;\">\n",
       "      <th></th>\n",
       "      <th>日收益率_Dret</th>\n",
       "      <th>滞后一期收益</th>\n",
       "      <th>市盈率_PE</th>\n",
       "      <th>市净率_PB</th>\n",
       "      <th>市销率_PS</th>\n",
       "      <th>每股收益(摊薄)(元/股)_EPS</th>\n",
       "      <th>净资产收益率(摊薄)_ROE</th>\n",
       "      <th>每股营业利润(元/股)_OpPrfPS</th>\n",
       "      <th>每股净资产(元/股)_NAPS</th>\n",
       "      <th>每股营业收入_IncomePS</th>\n",
       "    </tr>\n",
       "  </thead>\n",
       "  <tbody>\n",
       "    <tr>\n",
       "      <th>0</th>\n",
       "      <td>NaN</td>\n",
       "      <td>0.0067</td>\n",
       "      <td>38.99</td>\n",
       "      <td>5.19</td>\n",
       "      <td>1.75</td>\n",
       "      <td>1.22</td>\n",
       "      <td>17.8579</td>\n",
       "      <td>1.96</td>\n",
       "      <td>6.82</td>\n",
       "      <td>23.53</td>\n",
       "    </tr>\n",
       "    <tr>\n",
       "      <th>1</th>\n",
       "      <td>NaN</td>\n",
       "      <td>0.0114</td>\n",
       "      <td>9.09</td>\n",
       "      <td>2.38</td>\n",
       "      <td>2.06</td>\n",
       "      <td>1.89</td>\n",
       "      <td>33.4965</td>\n",
       "      <td>2.59</td>\n",
       "      <td>5.65</td>\n",
       "      <td>5.63</td>\n",
       "    </tr>\n",
       "    <tr>\n",
       "      <th>2</th>\n",
       "      <td>NaN</td>\n",
       "      <td>0.0059</td>\n",
       "      <td>30.42</td>\n",
       "      <td>1.96</td>\n",
       "      <td>0.74</td>\n",
       "      <td>0.48</td>\n",
       "      <td>8.5971</td>\n",
       "      <td>0.66</td>\n",
       "      <td>5.64</td>\n",
       "      <td>13.19</td>\n",
       "    </tr>\n",
       "    <tr>\n",
       "      <th>3</th>\n",
       "      <td>NaN</td>\n",
       "      <td>0.0357</td>\n",
       "      <td>137.55</td>\n",
       "      <td>2.90</td>\n",
       "      <td>0.52</td>\n",
       "      <td>0.04</td>\n",
       "      <td>2.0229</td>\n",
       "      <td>0.07</td>\n",
       "      <td>2.05</td>\n",
       "      <td>7.43</td>\n",
       "    </tr>\n",
       "    <tr>\n",
       "      <th>4</th>\n",
       "      <td>NaN</td>\n",
       "      <td>0.0177</td>\n",
       "      <td>40.90</td>\n",
       "      <td>6.55</td>\n",
       "      <td>10.00</td>\n",
       "      <td>0.63</td>\n",
       "      <td>12.3956</td>\n",
       "      <td>0.74</td>\n",
       "      <td>5.10</td>\n",
       "      <td>2.75</td>\n",
       "    </tr>\n",
       "  </tbody>\n",
       "</table>\n",
       "</div>"
      ],
      "text/plain": [
       "   日收益率_Dret  滞后一期收益  市盈率_PE  市净率_PB  市销率_PS  每股收益(摊薄)(元/股)_EPS  \\\n",
       "0        NaN  0.0067   38.99    5.19    1.75               1.22   \n",
       "1        NaN  0.0114    9.09    2.38    2.06               1.89   \n",
       "2        NaN  0.0059   30.42    1.96    0.74               0.48   \n",
       "3        NaN  0.0357  137.55    2.90    0.52               0.04   \n",
       "4        NaN  0.0177   40.90    6.55   10.00               0.63   \n",
       "\n",
       "   净资产收益率(摊薄)_ROE  每股营业利润(元/股)_OpPrfPS  每股净资产(元/股)_NAPS  每股营业收入_IncomePS  \n",
       "0         17.8579                 1.96             6.82            23.53  \n",
       "1         33.4965                 2.59             5.65             5.63  \n",
       "2          8.5971                 0.66             5.64            13.19  \n",
       "3          2.0229                 0.07             2.05             7.43  \n",
       "4         12.3956                 0.74             5.10             2.75  "
      ]
     },
     "execution_count": 3,
     "metadata": {},
     "output_type": "execute_result"
    }
   ],
   "source": [
    "# read data set\n",
    "data = pd.read_csv('data.csv') # read training data\n",
    "data = data.iloc[:,1:]\n",
    "test_data = pd.read_csv('test.csv')\n",
    "test_data = test_data.iloc[:,1:]\n",
    "\n",
    "test_data.head()"
   ]
  },
  {
   "cell_type": "code",
   "execution_count": 4,
   "metadata": {},
   "outputs": [
    {
     "data": {
      "text/plain": [
       "<matplotlib.axes._subplots.AxesSubplot at 0x7f3f88d2eeb8>"
      ]
     },
     "execution_count": 4,
     "metadata": {},
     "output_type": "execute_result"
    }
   ],
   "source": [
    "# pick features that are most relevant\n",
    "import seaborn as sns\n",
    "k = 10\n",
    "cols = data.corr().nlargest(k, '日收益率_Dret')['日收益率_Dret'].index\n",
    "cm = np.corrcoef(data[cols].values.T)\n",
    "sns.set(font_scale=1.25)\n",
    "sns.heatmap(cm, cbar = True, annot=True, square=True, fmt='.2f',annot_kws={'size':10}, yticklabels=cols.values, xticklabels=cols.values)\n"
   ]
  },
  {
   "cell_type": "code",
   "execution_count": 5,
   "metadata": {},
   "outputs": [],
   "source": [
    "# data = data[['日收益率_Dret', '滞后一期收益', '市盈率_PE', '市净率_PB', '市销率_PS', '每股收益(摊薄)(元/股)_EPS', '每股营业利润(元/股)_OpPrfPS', '每股净资产(元/股)_NAPS', '每股营业收入_IncomePS']]\n",
    "\n",
    "# test_data = test_data[['日收益率_Dret', '滞后一期收益', '市盈率_PE', '市净率_PB', '市销率_PS', '每股收益(摊薄)(元/股)_EPS', '每股营业利润(元/股)_OpPrfPS', '每股净资产(元/股)_NAPS', '每股营业收入_IncomePS']]\n",
    "# data.head()"
   ]
  },
  {
   "cell_type": "code",
   "execution_count": 6,
   "metadata": {},
   "outputs": [
    {
     "data": {
      "text/html": [
       "<div>\n",
       "<style scoped>\n",
       "    .dataframe tbody tr th:only-of-type {\n",
       "        vertical-align: middle;\n",
       "    }\n",
       "\n",
       "    .dataframe tbody tr th {\n",
       "        vertical-align: top;\n",
       "    }\n",
       "\n",
       "    .dataframe thead th {\n",
       "        text-align: right;\n",
       "    }\n",
       "</style>\n",
       "<table border=\"1\" class=\"dataframe\">\n",
       "  <thead>\n",
       "    <tr style=\"text-align: right;\">\n",
       "      <th></th>\n",
       "      <th>滞后一期收益</th>\n",
       "      <th>市盈率_PE</th>\n",
       "      <th>市净率_PB</th>\n",
       "      <th>市销率_PS</th>\n",
       "      <th>每股收益(摊薄)(元/股)_EPS</th>\n",
       "      <th>净资产收益率(摊薄)_ROE</th>\n",
       "      <th>每股营业利润(元/股)_OpPrfPS</th>\n",
       "      <th>每股净资产(元/股)_NAPS</th>\n",
       "      <th>每股营业收入_IncomePS</th>\n",
       "    </tr>\n",
       "  </thead>\n",
       "  <tbody>\n",
       "    <tr>\n",
       "      <th>0</th>\n",
       "      <td>0.0067</td>\n",
       "      <td>38.99</td>\n",
       "      <td>5.19</td>\n",
       "      <td>1.75</td>\n",
       "      <td>1.22</td>\n",
       "      <td>17.8579</td>\n",
       "      <td>1.96</td>\n",
       "      <td>6.82</td>\n",
       "      <td>23.53</td>\n",
       "    </tr>\n",
       "    <tr>\n",
       "      <th>1</th>\n",
       "      <td>0.0114</td>\n",
       "      <td>9.09</td>\n",
       "      <td>2.38</td>\n",
       "      <td>2.06</td>\n",
       "      <td>1.89</td>\n",
       "      <td>33.4965</td>\n",
       "      <td>2.59</td>\n",
       "      <td>5.65</td>\n",
       "      <td>5.63</td>\n",
       "    </tr>\n",
       "    <tr>\n",
       "      <th>2</th>\n",
       "      <td>0.0059</td>\n",
       "      <td>30.42</td>\n",
       "      <td>1.96</td>\n",
       "      <td>0.74</td>\n",
       "      <td>0.48</td>\n",
       "      <td>8.5971</td>\n",
       "      <td>0.66</td>\n",
       "      <td>5.64</td>\n",
       "      <td>13.19</td>\n",
       "    </tr>\n",
       "    <tr>\n",
       "      <th>3</th>\n",
       "      <td>0.0357</td>\n",
       "      <td>137.55</td>\n",
       "      <td>2.90</td>\n",
       "      <td>0.52</td>\n",
       "      <td>0.04</td>\n",
       "      <td>2.0229</td>\n",
       "      <td>0.07</td>\n",
       "      <td>2.05</td>\n",
       "      <td>7.43</td>\n",
       "    </tr>\n",
       "    <tr>\n",
       "      <th>4</th>\n",
       "      <td>0.0177</td>\n",
       "      <td>40.90</td>\n",
       "      <td>6.55</td>\n",
       "      <td>10.00</td>\n",
       "      <td>0.63</td>\n",
       "      <td>12.3956</td>\n",
       "      <td>0.74</td>\n",
       "      <td>5.10</td>\n",
       "      <td>2.75</td>\n",
       "    </tr>\n",
       "  </tbody>\n",
       "</table>\n",
       "</div>"
      ],
      "text/plain": [
       "   滞后一期收益  市盈率_PE  市净率_PB  市销率_PS  每股收益(摊薄)(元/股)_EPS  净资产收益率(摊薄)_ROE  \\\n",
       "0  0.0067   38.99    5.19    1.75               1.22         17.8579   \n",
       "1  0.0114    9.09    2.38    2.06               1.89         33.4965   \n",
       "2  0.0059   30.42    1.96    0.74               0.48          8.5971   \n",
       "3  0.0357  137.55    2.90    0.52               0.04          2.0229   \n",
       "4  0.0177   40.90    6.55   10.00               0.63         12.3956   \n",
       "\n",
       "   每股营业利润(元/股)_OpPrfPS  每股净资产(元/股)_NAPS  每股营业收入_IncomePS  \n",
       "0                 1.96             6.82            23.53  \n",
       "1                 2.59             5.65             5.63  \n",
       "2                 0.66             5.64            13.19  \n",
       "3                 0.07             2.05             7.43  \n",
       "4                 0.74             5.10             2.75  "
      ]
     },
     "execution_count": 6,
     "metadata": {},
     "output_type": "execute_result"
    }
   ],
   "source": [
    "# split into training set and test set\n",
    "# data.rename(\"\")\n",
    "X_train = data.iloc[:, 1:]\n",
    "y_train = data.iloc[:, 0]\n",
    "X_test = test_data.iloc[:, 1:]\n",
    "y_test = test_data.iloc[:, 0]\n",
    "\n",
    "X_test.head()\n",
    "# X_train, X_test, y_train, y_test = train_test_split(X, y, shuffle=False, test_size=0.33)"
   ]
  },
  {
   "cell_type": "code",
   "execution_count": 7,
   "metadata": {},
   "outputs": [],
   "source": [
    "params = {'n_estimators': 500, 'max_depth': 6, 'min_samples_split': 2,\n",
    "          'learning_rate': 0.001, 'loss': 'ls'}\n",
    "clf = ensemble.GradientBoostingRegressor(**params)\n",
    "\n",
    "clf.fit(X_train, y_train)\n",
    "y_pred = clf.predict(X_test)\n",
    "# mse = mean_squared_error(y_test, y_pred)\n",
    "# print(\"MSE: %.6f\" % mse)\n",
    "\n",
    "# from sklearn.metrics import mean_absolute_error\n",
    "# me = mean_absolute_error(y_test, y_pred)\n",
    "# print('me: ', me)\n"
   ]
  },
  {
   "cell_type": "code",
   "execution_count": 8,
   "metadata": {},
   "outputs": [],
   "source": [
    "# d = {'y': y_test, 'y_pred': y_pred, 'diff': abs(y_test - y_pred)}\n",
    "# df = pd.DataFrame(data=d)\n",
    "# temp = df[df['diff'] < me]\n",
    "# print('accuracy', (len(temp)/ len(y_test)) * 100)"
   ]
  },
  {
   "cell_type": "code",
   "execution_count": 9,
   "metadata": {},
   "outputs": [
    {
     "name": "stdout",
     "output_type": "stream",
     "text": [
      "0.00026571784852839783\n",
      "-0.0010743453107772915\n",
      "0.00023260228112430276\n",
      "0.00042116083239100623\n",
      "0.0003207855884839537\n",
      "0.0006593322661658221\n",
      "0.0007132093741549718\n",
      "0.00026571784852839783\n",
      "0.00026571784852839783\n",
      "-3.1066451486914936e-05\n",
      "0.00041563958607888625\n",
      "0.0015448506876097779\n"
     ]
    }
   ],
   "source": [
    "for i in y_pred:\n",
    "    print(i)"
   ]
  },
  {
   "cell_type": "code",
   "execution_count": 12,
   "metadata": {},
   "outputs": [],
   "source": [
    "test_data['日收益率_Dret'] = y_pred\n",
    "test_data.to_csv('prediction.csv')"
   ]
  },
  {
   "cell_type": "code",
   "execution_count": null,
   "metadata": {},
   "outputs": [],
   "source": []
  },
  {
   "cell_type": "code",
   "execution_count": null,
   "metadata": {},
   "outputs": [],
   "source": []
  }
 ],
 "metadata": {
  "kernelspec": {
   "display_name": "Python 3",
   "language": "python",
   "name": "python3"
  },
  "language_info": {
   "codemirror_mode": {
    "name": "ipython",
    "version": 3
   },
   "file_extension": ".py",
   "mimetype": "text/x-python",
   "name": "python",
   "nbconvert_exporter": "python",
   "pygments_lexer": "ipython3",
   "version": "3.7.3"
  }
 },
 "nbformat": 4,
 "nbformat_minor": 2
}
