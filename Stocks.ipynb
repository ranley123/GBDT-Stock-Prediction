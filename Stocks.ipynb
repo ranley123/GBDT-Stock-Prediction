{
 "cells": [
  {
   "cell_type": "code",
   "execution_count": 1,
   "metadata": {},
   "outputs": [],
   "source": [
    "import pandas as pd # analysis\n",
    "import numpy as np # calculation\n",
    "from pandas import Series, DataFrame\n",
    "from sklearn.model_selection import train_test_split\n",
    "from sklearn.metrics import mean_squared_error\n",
    "from sklearn.metrics import mean_absolute_error\n",
    "from sklearn import ensemble"
   ]
  },
  {
   "cell_type": "code",
   "execution_count": 2,
   "metadata": {},
   "outputs": [],
   "source": [
    "# read data set\n",
    "data = pd.read_csv('data.csv') # read training data\n",
    "\n",
    "stocks = []\n",
    "stock_codes = list(data.iloc[:, 0].unique())\n",
    "\n",
    "for code in stock_codes:\n",
    "    df = data[data['股票代码_Stkcd'] == code]\n",
    "    stocks.append(df)\n"
   ]
  },
  {
   "cell_type": "code",
   "execution_count": 3,
   "metadata": {},
   "outputs": [
    {
     "name": "stdout",
     "output_type": "stream",
     "text": [
      "-----------------------------------\n",
      "Stock Code:  672\n",
      "MSE: 0.000864\n",
      "me:  0.022254413208880976\n",
      "-----------------------------------\n",
      "Stock Code:  63\n",
      "MSE: 0.002332\n",
      "me:  0.03510784910731284\n",
      "-----------------------------------\n",
      "Stock Code:  2302\n",
      "MSE: 0.000830\n",
      "me:  0.019880293914334563\n",
      "-----------------------------------\n",
      "Stock Code:  2307\n",
      "MSE: 0.001288\n",
      "me:  0.02550267491394151\n",
      "-----------------------------------\n",
      "Stock Code:  2773\n",
      "MSE: 0.000897\n",
      "me:  0.02380382597393028\n",
      "-----------------------------------\n",
      "Stock Code:  2792\n",
      "MSE: 0.000489\n",
      "me:  0.016340216038168293\n",
      "-----------------------------------\n",
      "Stock Code:  2821\n",
      "MSE: 0.001110\n",
      "me:  0.02607829585128513\n",
      "-----------------------------------\n",
      "Stock Code:  600487\n",
      "MSE: 0.000935\n",
      "me:  0.023239817111308344\n",
      "-----------------------------------\n",
      "Stock Code:  600535\n",
      "MSE: 0.000809\n",
      "me:  0.0221444664914731\n",
      "-----------------------------------\n",
      "Stock Code:  600545\n",
      "MSE: 0.000132\n",
      "me:  0.008671968058587031\n",
      "-----------------------------------\n",
      "Stock Code:  600585\n",
      "MSE: 0.000580\n",
      "me:  0.018715743973142553\n",
      "-----------------------------------\n",
      "Stock Code:  600801\n",
      "MSE: 0.000806\n",
      "me:  0.02026299275869421\n"
     ]
    }
   ],
   "source": [
    "for i in range(len(stocks)):\n",
    "    data = stocks[i]\n",
    "    # delete the stock code\n",
    "    data = data.iloc[:,1:]\n",
    "    # split to x and y\n",
    "    X = data.iloc[:, 1:]\n",
    "    y = data.iloc[:, 0]\n",
    "    X_train, X_test, y_train, y_test = train_test_split(X, y, shuffle=False, test_size=0.2)\n",
    "    params = {'n_estimators': 500, 'max_depth': 6, 'min_samples_split': 2,\n",
    "          'learning_rate': 0.0001, 'loss': 'ls'}\n",
    "    clf = ensemble.GradientBoostingRegressor(**params)\n",
    "\n",
    "    clf.fit(X_train, y_train)\n",
    "    y_pred = clf.predict(X_test)\n",
    "    \n",
    "    print('-----------------------------------')\n",
    "    print('Stock Code: ', stock_codes[i])\n",
    "    \n",
    "    mse = mean_squared_error(y_test, y_pred)\n",
    "    print(\"MSE: %.6f\" % mse)\n",
    "\n",
    "    me = mean_absolute_error(y_test, y_pred)\n",
    "    print('me: ', me)\n",
    "    "
   ]
  },
  {
   "cell_type": "code",
   "execution_count": null,
   "metadata": {},
   "outputs": [],
   "source": []
  },
  {
   "cell_type": "code",
   "execution_count": null,
   "metadata": {},
   "outputs": [],
   "source": [
    "# data = data[['日收益率_Dret', '滞后一期收益', '市盈率_PE', '市净率_PB', '市销率_PS', '每股收益(摊薄)(元/股)_EPS', '每股营业利润(元/股)_OpPrfPS', '每股净资产(元/股)_NAPS', '每股营业收入_IncomePS']]\n",
    "\n",
    "# test_data = test_data[['日收益率_Dret', '滞后一期收益', '市盈率_PE', '市净率_PB', '市销率_PS', '每股收益(摊薄)(元/股)_EPS', '每股营业利润(元/股)_OpPrfPS', '每股净资产(元/股)_NAPS', '每股营业收入_IncomePS']]\n",
    "# data.head()"
   ]
  },
  {
   "cell_type": "code",
   "execution_count": null,
   "metadata": {},
   "outputs": [],
   "source": [
    "# split into training set and test set\n",
    "# data.rename(\"\")\n",
    "X_train = data.iloc[:, 1:]\n",
    "y_train = data.iloc[:, 0]\n",
    "X_test = test_data.iloc[:, 1:]\n",
    "y_test = test_data.iloc[:, 0]\n",
    "\n",
    "X_test.head()\n",
    "# X_train, X_test, y_train, y_test = train_test_split(X, y, shuffle=False, test_size=0.33)"
   ]
  },
  {
   "cell_type": "code",
   "execution_count": null,
   "metadata": {},
   "outputs": [],
   "source": [
    "params = {'n_estimators': 500, 'max_depth': 6, 'min_samples_split': 2,\n",
    "          'learning_rate': 0.001, 'loss': 'ls'}\n",
    "clf = ensemble.GradientBoostingRegressor(**params)\n",
    "\n",
    "clf.fit(X_train, y_train)\n",
    "y_pred = clf.predict(X_test)\n",
    "# mse = mean_squared_error(y_test, y_pred)\n",
    "# print(\"MSE: %.6f\" % mse)\n",
    "\n",
    "# from sklearn.metrics import mean_absolute_error\n",
    "# me = mean_absolute_error(y_test, y_pred)\n",
    "# print('me: ', me)\n"
   ]
  },
  {
   "cell_type": "code",
   "execution_count": null,
   "metadata": {},
   "outputs": [],
   "source": [
    "# d = {'y': y_test, 'y_pred': y_pred, 'diff': abs(y_test - y_pred)}\n",
    "# df = pd.DataFrame(data=d)\n",
    "# temp = df[df['diff'] < me]\n",
    "# print('accuracy', (len(temp)/ len(y_test)) * 100)"
   ]
  },
  {
   "cell_type": "code",
   "execution_count": null,
   "metadata": {},
   "outputs": [],
   "source": [
    "for i in y_pred:\n",
    "    print(i)"
   ]
  },
  {
   "cell_type": "code",
   "execution_count": null,
   "metadata": {},
   "outputs": [],
   "source": [
    "test_data['日收益率_Dret'] = y_pred\n",
    "test_data.to_csv('prediction.csv')"
   ]
  },
  {
   "cell_type": "code",
   "execution_count": null,
   "metadata": {},
   "outputs": [],
   "source": []
  },
  {
   "cell_type": "code",
   "execution_count": null,
   "metadata": {},
   "outputs": [],
   "source": []
  }
 ],
 "metadata": {
  "kernelspec": {
   "display_name": "Python 3",
   "language": "python",
   "name": "python3"
  },
  "language_info": {
   "codemirror_mode": {
    "name": "ipython",
    "version": 3
   },
   "file_extension": ".py",
   "mimetype": "text/x-python",
   "name": "python",
   "nbconvert_exporter": "python",
   "pygments_lexer": "ipython3",
   "version": "3.7.3"
  }
 },
 "nbformat": 4,
 "nbformat_minor": 2
}
